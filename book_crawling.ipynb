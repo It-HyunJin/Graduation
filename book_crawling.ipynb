{
  "nbformat": 4,
  "nbformat_minor": 0,
  "metadata": {
    "colab": {
      "provenance": [],
      "authorship_tag": "ABX9TyOOsu68sHohOxA3X9ThgW6A",
      "include_colab_link": true
    },
    "kernelspec": {
      "name": "python3",
      "display_name": "Python 3"
    },
    "language_info": {
      "name": "python"
    }
  },
  "cells": [
    {
      "cell_type": "markdown",
      "metadata": {
        "id": "view-in-github",
        "colab_type": "text"
      },
      "source": [
        "<a href=\"https://colab.research.google.com/github/It-HyunJin/Graduation/blob/main/book_crawling.ipynb\" target=\"_parent\"><img src=\"https://colab.research.google.com/assets/colab-badge.svg\" alt=\"Open In Colab\"/></a>"
      ]
    },
    {
      "cell_type": "code",
      "execution_count": null,
      "metadata": {
        "colab": {
          "base_uri": "https://localhost:8080/"
        },
        "id": "tGOcJ0JziIQ8",
        "outputId": "e93500a9-fc9d-4f54-e7a0-723aca09bc6a"
      },
      "outputs": [
        {
          "output_type": "stream",
          "name": "stdout",
          "text": [
            "\r0% [Working]\r            \rHit:1 http://security.ubuntu.com/ubuntu jammy-security InRelease\n",
            "\r0% [Connecting to archive.ubuntu.com] [Connected to cloud.r-project.org (108.15\r                                                                               \rHit:2 https://cloud.r-project.org/bin/linux/ubuntu jammy-cran40/ InRelease\n",
            "\r0% [Connecting to archive.ubuntu.com] [Connected to r2u.stat.illinois.edu (192.\r                                                                               \rHit:3 https://developer.download.nvidia.com/compute/cuda/repos/ubuntu2204/x86_64  InRelease\n",
            "\r0% [Connecting to archive.ubuntu.com (185.125.190.81)] [Waiting for headers] [C\r0% [Connecting to archive.ubuntu.com (185.125.190.81)] [Waiting for headers] [C\r                                                                               \rHit:4 https://r2u.stat.illinois.edu/ubuntu jammy InRelease\n",
            "Hit:5 http://archive.ubuntu.com/ubuntu jammy InRelease\n",
            "Hit:6 http://archive.ubuntu.com/ubuntu jammy-updates InRelease\n",
            "Hit:7 http://archive.ubuntu.com/ubuntu jammy-backports InRelease\n",
            "Hit:8 https://ppa.launchpadcontent.net/deadsnakes/ppa/ubuntu jammy InRelease\n",
            "Hit:9 https://ppa.launchpadcontent.net/graphics-drivers/ppa/ubuntu jammy InRelease\n",
            "Hit:10 https://ppa.launchpadcontent.net/ubuntugis/ppa/ubuntu jammy InRelease\n",
            "Reading package lists... Done\n",
            "W: Skipping acquire of configured file 'main/source/Sources' as repository 'https://r2u.stat.illinois.edu/ubuntu jammy InRelease' does not seem to provide it (sources.list entry misspelt?)\n",
            "Reading package lists... Done\n",
            "Building dependency tree... Done\n",
            "Reading state information... Done\n",
            "chromium-chromedriver is already the newest version (1:85.0.4183.83-0ubuntu2.22.04.1).\n",
            "0 upgraded, 0 newly installed, 0 to remove and 37 not upgraded.\n",
            "cp: '/usr/lib/chromium-browser/chromedriver' and '/usr/bin/chromedriver' are the same file\n"
          ]
        }
      ],
      "source": [
        "!apt-get update\n",
        "!apt install chromium-chromedriver\n",
        "!cp /usr/lib/chromium-browser/chromedriver /usr/bin"
      ]
    },
    {
      "cell_type": "code",
      "source": [
        "!pip install selenium\n",
        "!pip install webdriver-manager\n",
        "!pip install beautifulsoup4"
      ],
      "metadata": {
        "colab": {
          "base_uri": "https://localhost:8080/"
        },
        "id": "yyMnSWS6iZcr",
        "outputId": "24f3a900-ab33-4884-fe84-e24dc599ddcf"
      },
      "execution_count": null,
      "outputs": [
        {
          "output_type": "stream",
          "name": "stdout",
          "text": [
            "Collecting selenium\n",
            "  Downloading selenium-4.33.0-py3-none-any.whl.metadata (7.5 kB)\n",
            "Requirement already satisfied: urllib3~=2.4.0 in /usr/local/lib/python3.11/dist-packages (from urllib3[socks]~=2.4.0->selenium) (2.4.0)\n",
            "Collecting trio~=0.30.0 (from selenium)\n",
            "  Downloading trio-0.30.0-py3-none-any.whl.metadata (8.5 kB)\n",
            "Collecting trio-websocket~=0.12.2 (from selenium)\n",
            "  Downloading trio_websocket-0.12.2-py3-none-any.whl.metadata (5.1 kB)\n",
            "Requirement already satisfied: certifi>=2025.4.26 in /usr/local/lib/python3.11/dist-packages (from selenium) (2025.4.26)\n",
            "Requirement already satisfied: typing_extensions~=4.13.2 in /usr/local/lib/python3.11/dist-packages (from selenium) (4.13.2)\n",
            "Requirement already satisfied: websocket-client~=1.8.0 in /usr/local/lib/python3.11/dist-packages (from selenium) (1.8.0)\n",
            "Requirement already satisfied: attrs>=23.2.0 in /usr/local/lib/python3.11/dist-packages (from trio~=0.30.0->selenium) (25.3.0)\n",
            "Requirement already satisfied: sortedcontainers in /usr/local/lib/python3.11/dist-packages (from trio~=0.30.0->selenium) (2.4.0)\n",
            "Requirement already satisfied: idna in /usr/local/lib/python3.11/dist-packages (from trio~=0.30.0->selenium) (3.10)\n",
            "Collecting outcome (from trio~=0.30.0->selenium)\n",
            "  Downloading outcome-1.3.0.post0-py2.py3-none-any.whl.metadata (2.6 kB)\n",
            "Requirement already satisfied: sniffio>=1.3.0 in /usr/local/lib/python3.11/dist-packages (from trio~=0.30.0->selenium) (1.3.1)\n",
            "Collecting wsproto>=0.14 (from trio-websocket~=0.12.2->selenium)\n",
            "  Downloading wsproto-1.2.0-py3-none-any.whl.metadata (5.6 kB)\n",
            "Requirement already satisfied: pysocks!=1.5.7,<2.0,>=1.5.6 in /usr/local/lib/python3.11/dist-packages (from urllib3[socks]~=2.4.0->selenium) (1.7.1)\n",
            "Requirement already satisfied: h11<1,>=0.9.0 in /usr/local/lib/python3.11/dist-packages (from wsproto>=0.14->trio-websocket~=0.12.2->selenium) (0.16.0)\n",
            "Downloading selenium-4.33.0-py3-none-any.whl (9.4 MB)\n",
            "\u001b[2K   \u001b[90m━━━━━━━━━━━━━━━━━━━━━━━━━━━━━━━━━━━━━━━━\u001b[0m \u001b[32m9.4/9.4 MB\u001b[0m \u001b[31m55.5 MB/s\u001b[0m eta \u001b[36m0:00:00\u001b[0m\n",
            "\u001b[?25hDownloading trio-0.30.0-py3-none-any.whl (499 kB)\n",
            "\u001b[2K   \u001b[90m━━━━━━━━━━━━━━━━━━━━━━━━━━━━━━━━━━━━━━━━\u001b[0m \u001b[32m499.2/499.2 kB\u001b[0m \u001b[31m29.0 MB/s\u001b[0m eta \u001b[36m0:00:00\u001b[0m\n",
            "\u001b[?25hDownloading trio_websocket-0.12.2-py3-none-any.whl (21 kB)\n",
            "Downloading outcome-1.3.0.post0-py2.py3-none-any.whl (10 kB)\n",
            "Downloading wsproto-1.2.0-py3-none-any.whl (24 kB)\n",
            "Installing collected packages: wsproto, outcome, trio, trio-websocket, selenium\n",
            "Successfully installed outcome-1.3.0.post0 selenium-4.33.0 trio-0.30.0 trio-websocket-0.12.2 wsproto-1.2.0\n"
          ]
        }
      ]
    },
    {
      "cell_type": "code",
      "source": [
        "from selenium import webdriver\n",
        "from selenium.webdriver.chrome.options import Options\n",
        "from selenium.webdriver.chrome.service import Service\n",
        "from webdriver_manager.chrome import ChromeDriverManager\n",
        "import time\n",
        "from bs4 import BeautifulSoup\n",
        "import pandas as pd\n",
        "from selenium.webdriver.common.by import By\n",
        "from selenium.webdriver.support.ui import WebDriverWait\n",
        "from selenium.webdriver.support import expected_conditions as EC\n",
        "import re\n",
        "import csv\n",
        "import os\n",
        "import json\n",
        "from selenium.common.exceptions import TimeoutException\n",
        "\n",
        "chrome_options = Options()\n",
        "chrome_options.add_argument(\"--headless\")\n",
        "chrome_options.add_argument(\"--no-sandbox\")\n",
        "chrome_options.add_argument(\"--disable-dev-shm-usage\")\n",
        "chrome_options.add_argument(\"--disable-gpu\")\n",
        "\n",
        "service = Service(ChromeDriverManager().install())\n",
        "driver = webdriver.Chrome( options=chrome_options)\n",
        "time.sleep(3)"
      ],
      "metadata": {
        "id": "jAFYJGuZieoO"
      },
      "execution_count": 72,
      "outputs": []
    },
    {
      "cell_type": "code",
      "source": [
        "driver.implicitly_wait(10)"
      ],
      "metadata": {
        "id": "29ykqQucphiB"
      },
      "execution_count": null,
      "outputs": []
    },
    {
      "cell_type": "code",
      "source": [
        "category_urls={\n",
        "    'IT':'https://www.yes24.com/product/category/bestseller?pageNumber=1&pageSize=100&categoryNumber=001001003',\n",
        "    '에세이': 'https://www.yes24.com/product/category/bestseller?pageNumber=1&pageSize=100&categoryNumber=001001047',\n",
        "    '자기계발':'https://www.yes24.com/product/category/bestseller?pageNumber=1&pageSize=100&categoryNumber=001001026',\n",
        "    '여행':'https://www.yes24.com/product/category/bestseller?pageNumber=1&pageSize=100&categoryNumber=001001009',\n",
        "    '인문':'https://www.yes24.com/product/category/bestseller?pageNumber=1&pageSize=100&categoryNumber=001001019',\n",
        "    '건강/취미':'https://www.yes24.com/product/category/bestseller?pageNumber=1&pageSize=100&categoryNumber=001001011',\n",
        "    '소설/시/희곡':'https://www.yes24.com/product/category/bestseller?pageNumber=1&pageSize=100&categoryNumber=001001046'\n",
        "}\n",
        "\n",
        "BOOK_PER_CATEGORY = 100\n",
        "SAVE_CSV_PATH = './a_reviews.csv'\n",
        "PROGRESS_PATH = './a_progress.json'"
      ],
      "metadata": {
        "id": "8zggy2JbptBe"
      },
      "execution_count": null,
      "outputs": []
    },
    {
      "cell_type": "code",
      "source": [
        "def save_progress(completed_book_links):\n",
        "    with open(PROGRESS_PATH, 'w', encoding='utf-8-sig') as f:\n",
        "        json.dump(list(completed_book_links), f, ensure_ascii=False)\n",
        "    print(f\"[진행 상태 저장] 완료한 책 링크 {len(completed_book_links)}개 저장 완료\")\n",
        "\n",
        "def load_progress():\n",
        "    if os.path.exists(PROGRESS_PATH):\n",
        "        with open(PROGRESS_PATH, 'r', encoding='utf-8-sig') as f:\n",
        "            completed_links = set(json.load(f))\n",
        "        print(f\"[이전 작업 불러오기 완료] 완료한 책 {len(completed_links)}개\")\n",
        "        return set(), completed_links  # 리뷰는 새로 수집하므로 빈 리스트 반환\n",
        "    else:\n",
        "        return [], set()\n",
        "\n",
        "def save_data_to_csv(data):\n",
        "    fieldnames = ['책이름', '저자', '책id', '별점', '리뷰']\n",
        "    file_exists = os.path.exists(SAVE_CSV_PATH)\n",
        "\n",
        "    with open(SAVE_CSV_PATH, 'a', encoding='utf-8-sig', newline='') as f:\n",
        "        writer = csv.DictWriter(f, fieldnames=fieldnames)\n",
        "        if not file_exists:\n",
        "            writer.writeheader()\n",
        "        for row in data:\n",
        "            writer.writerow(row)\n",
        "    print(f\"[CSV 저장 완료] 총 {len(data)}개 저장\")"
      ],
      "metadata": {
        "id": "GgNrgNDe2FYQ"
      },
      "execution_count": 71,
      "outputs": []
    },
    {
      "cell_type": "code",
      "source": [
        "all_reviews, completed_book_links = load_progress()\n",
        "if not all_reviews:\n",
        "  all_reviews = []"
      ],
      "metadata": {
        "id": "IWkFL4fQsvQ9"
      },
      "execution_count": 62,
      "outputs": []
    },
    {
      "cell_type": "code",
      "source": [
        "if os.path.exists(SAVE_CSV_PATH):\n",
        "    os.remove(SAVE_CSV_PATH)\n",
        "    print(\"[초기화] 기존 리뷰 CSV 파일 삭제 완료\")"
      ],
      "metadata": {
        "colab": {
          "base_uri": "https://localhost:8080/"
        },
        "id": "S1NEdU-agPNY",
        "outputId": "b4e4a854-641b-4e72-ff55-b6b5cb41ea1c"
      },
      "execution_count": 74,
      "outputs": [
        {
          "output_type": "stream",
          "name": "stdout",
          "text": [
            "[초기화] 기존 리뷰 CSV 파일 삭제 완료\n"
          ]
        }
      ]
    },
    {
      "cell_type": "code",
      "source": [
        "if os.path.exists(PROGRESS_PATH):\n",
        "    os.remove(PROGRESS_PATH)\n",
        "    print(\"[초기화] 진행 상태 파일 삭제 완료\")"
      ],
      "metadata": {
        "colab": {
          "base_uri": "https://localhost:8080/"
        },
        "id": "G0O1T4dHiKTM",
        "outputId": "fab5bc74-c2fa-4f00-c735-aee20c831f25"
      },
      "execution_count": 75,
      "outputs": [
        {
          "output_type": "stream",
          "name": "stdout",
          "text": [
            "[초기화] 진행 상태 파일 삭제 완료\n"
          ]
        }
      ]
    },
    {
      "cell_type": "code",
      "source": [
        "print(\"start crawling\")\n",
        "\n",
        "for category_name, category_url_base in category_urls.items(): # 변수명 좀 더 명확하게 변경 (기본 URL)\n",
        "  print(f\"------------- 카테고리: '{category_name}' 수집 시작-------------\")\n",
        "  book_count = 0 # 현재 카테고리에서 수집한 책 권수\n",
        "  current_page = 1 # 현재 카테고리 페이지 번호\n",
        "\n",
        "  completed_book_links = set() # 이미 처리한 책 링크 저장 (중복 방지)\n",
        "\n",
        "  # 목표 권수를 채우거나 더 이상 책이 없을 때까지 반복\n",
        "  while book_count < BOOK_PER_CATEGORY:\n",
        "    # 다음 페이지 URL 생성\n",
        "    category_page_url = f\"{category_url_base}\"\n",
        "    print(f\"'{category_name}' 카테고리의 {current_page} 페이지로 이동중: {category_page_url}\")\n",
        "\n",
        "    try:\n",
        "      driver.get(category_page_url) # <-- 페이지 번호가 붙은 URL로 이동\n",
        "      time.sleep(3) # 페이지 로딩 대기\n",
        "\n",
        "      # 현재 카테고리 페이지의 HTML 소스 파싱\n",
        "      soup_category = BeautifulSoup(driver.page_source, 'html.parser') # 변수명 변경\n",
        "\n",
        "      book_item_links_on_page = soup_category.select('div.item_info > div.info_row.info_name > a.gd_name') # 책 링크를 가진 a 태그 직접 선택\n",
        "\n",
        "      if not book_item_links_on_page:\n",
        "        print(f\"'{category_name}' 카테고리의 {current_page} 페이지에서 책을 찾을 수 없습니다. ({len(completed_book_links)}권 수집 완료)\")\n",
        "        break # 현재 페이지에 더 이상 책이 없으면 카테고리 루프 종료\n",
        "\n",
        "      print(f\"{len(book_item_links_on_page)}개의 책 링크 찾음\")\n",
        "\n",
        "      # 현재 페이지에서 찾은 책 링크들을 순회\n",
        "      for book_link_element in book_item_links_on_page:\n",
        "        if book_count >= BOOK_PER_CATEGORY:\n",
        "          print(f\"'{category_name}' 카테고리에서 목표 {BOOK_PER_CATEGORY}권 달성!\")\n",
        "          break # 목표 권수 달성 시 내부 루프 종료\n",
        "\n",
        "        book_detail_url = book_link_element['href'] # href 속성에서 상세 페이지 링크 추출\n",
        "        # 상대 경로 링크일 경우 절대 경로로 변환\n",
        "        if book_detail_url.startswith('/'):\n",
        "          book_detail_url = 'https://www.yes24.com' + book_detail_url # 예스24 기본 URL 붙여주기\n",
        "\n",
        "        # 이미 처리한 책인지 확인\n",
        "        if book_detail_url in completed_book_links:\n",
        "          print(f\"  이미 처리한 책 링크입니다: {book_detail_url}\")\n",
        "          continue # 이미 처리했으면 건너뛰기\n",
        "\n",
        "        completed_book_links.add(book_detail_url) # 처리할 책 링크를 set에 추가\n",
        "        book_count += 1 # 수집할 책 권수 카운트 증가\n",
        "        print(f\"--- ({book_count}/{BOOK_PER_CATEGORY}) 책 상세 페이지 이동: {book_detail_url} ---\")\n",
        "\n",
        "        try:\n",
        "          # 책 상세 페이지로 이동\n",
        "          driver.get(book_detail_url)\n",
        "          # 리뷰 목록 영역이 나타날 때까지 대기\n",
        "          WebDriverWait(driver, 10).until(EC.presence_of_element_located((By.CSS_SELECTOR, '#infoset_reviewContentList'))) # 리뷰 영역 ID (예시, 확인 필요!)\n",
        "          time.sleep(2)\n",
        "\n",
        "          # 책 상세 페이지\n",
        "          book_soup = BeautifulSoup(driver.page_source, 'html.parser')\n",
        "\n",
        "          # --- 책 기본 정보 (책이름, 저자, 책id, 전체 별점) 추출 ---\n",
        "          book_title = book_soup.select_one('h2.gd_name').get_text(strip=True) if book_soup.select_one('h2.gd_name') else 'N/A'\n",
        "          book_author_element = book_soup.select_one('span.gd_auth > a') or book_soup.select_one('span.gd_auth') # 저자 정보 셀렉터 확인 필요, a 태그 없을 수도 있음\n",
        "          book_author = book_author_element.get_text(strip=True) if book_author_element else 'N/A'\n",
        "          # 책 ID는 상세 페이지 URL에서 추출\n",
        "          book_id = book_detail_url.split('/')[-1] if book_detail_url.split('/')[-1].isdigit() else 'N/A'\n",
        "          # 전체 별점\n",
        "          overall_rating_element = book_soup.select_one(' em.yes_b')\n",
        "          overall_rating = overall_rating_element.get_text(strip=True) if overall_rating_element else 'N/A'\n",
        "\n",
        "          print(f\"    책 제목: {book_title}, 저자: {book_author}, ID: {book_id}, 전체 별점: {overall_rating}\")\n",
        "\n",
        "          #리뷰페이지 넘기며 수집\n",
        "          review_page_num = 1\n",
        "\n",
        "          book_id_for_reviews = book_detail_url.split('/')[-1]\n",
        "\n",
        "          while True:\n",
        "            current_review_page_url=(\n",
        "                f\"https://www.yes24.com/Product/CommunityModules/GoodsReviewList/{book_id_for_reviews}\"\n",
        "                f\"?goodsSortNo=001033&resourceKeyGb=01&goodsStateGb=02&goodsSetYn=N,N&goodsGb=01&Sort=2\"\n",
        "                f\"&PageNumber={review_page_num}&Type=ALL&DojungAfterBuy=0\")\n",
        "\n",
        "            #print(f\"    리뷰 {review_page_num} 페이지로 이동: {current_review_page_url}\")\n",
        "\n",
        "            try:\n",
        "                  driver.get(current_review_page_url)\n",
        "                  WebDriverWait(driver,10).until(lambda d: len(BeautifulSoup(d.page_source, 'html.parser').select('div.reviewInfoBot.origin div.review_cont')) > 0 or \\\n",
        "                                \"등록된 리뷰가 없습니다.\" in d.page_source # 리뷰가 없다는 텍스트가 있는지 함께 확인\n",
        "                  )\n",
        "\n",
        "                  time.sleep(2)\n",
        "\n",
        "                  soup_final_reviews = BeautifulSoup(driver.page_source, 'html.parser')\n",
        "\n",
        "                  review_element_selector = 'div.reviewInfoBot.origin div.review_cont'\n",
        "                  review_elements = soup_final_reviews.select(review_element_selector)\n",
        "\n",
        "                  if \"등록된 리뷰가 없습니다.\" in driver.page_source:\n",
        "                    print(\"      해당 책에 리뷰가 없습니다.\")\n",
        "                    all_reviews.append({\n",
        "                        '책이름': book_title,\n",
        "                        '저자': book_author,\n",
        "                        '책id': book_id,\n",
        "                        '별점': overall_rating,\n",
        "                        '리뷰': '리뷰 없음'\n",
        "                    })\n",
        "                    break\n",
        "\n",
        "                  if not review_elements:\n",
        "                    print(\"      해당 책에 리뷰가 없습니다.\")\n",
        "              # 리뷰가 없을 경우 처리 (책 정보는 저장하고 리뷰는 비워두기)\n",
        "                    break\n",
        "\n",
        "                  else:\n",
        "                    #print(f\"      총 {len(review_elements)}개의 리뷰 발견.\")\n",
        "                    for review_element in review_elements:\n",
        "                      #review_text_element = review_element.select_one(' .review_cont')\n",
        "                      review_text = review_element.get_text(strip=True) if review_element else 'N/A'\n",
        "\n",
        "                  # 수집한 데이터를 리스트에 추가 (각 리뷰마다 한 행)\n",
        "                      all_reviews.append({\n",
        "                          '책이름': book_title,\n",
        "                          '저자': book_author,\n",
        "                          '책id': book_id,\n",
        "                          '별점': overall_rating,\n",
        "                          '리뷰': review_text\n",
        "                      })\n",
        "                    # print(f\"        내용: {review_text[:50]}...\") # 확인용 일부 출력\n",
        "\n",
        "                    review_page_num += 1\n",
        "\n",
        "            #except TimeoutException:\n",
        "             # print(\"      해당 책에 리뷰가 없습니다.\")\n",
        "              # 리뷰가 없을 경우 처리 (책 정보는 저장하고 리뷰는 비워두기)\n",
        "              #all_reviews.append({\n",
        "               #         '책이름': book_title,\n",
        "                #        '저자': book_author,\n",
        "                 #       '책id': book_id,\n",
        "                  #      '별점': overall_rating,\n",
        "                   ##})\n",
        "              #break\n",
        "            except Exception as e:\n",
        "              #print(f\"    !!! 리뷰 페이지 {review_page_num} 처리 중 오류 발생: {e}\")\n",
        "              break # 리뷰 페이지 처리 중 오류 발생 시 현재 책의 리뷰 수집 중단\n",
        "\n",
        "\n",
        "        except Exception as e:\n",
        "          print(f\"    !!! 책 상세 페이지 또는 리뷰 크롤링 중 오류 발생: {e} (URL: {book_detail_url})\")\n",
        "            # 오류 발생 시 해당 책은 건너뛰거나, 오류 정보를 저장하는 등의 처리 필요\n",
        "\n",
        "        # 다음 책으로 넘어가기 전에 잠시 대기 (서버 부하 방지)\n",
        "        time.sleep(1)\n",
        "\n",
        "        if book_count % 10 == 0:\n",
        "          print(\"[중간 저장]\")\n",
        "          save_data_to_csv(all_reviews)\n",
        "          save_progress(completed_book_links)\n",
        "          all_reviews.clear()\n",
        "\n",
        "      # 현재 페이지의 책 링크들을 모두 처리했으면 다음 페이지로 이동\n",
        "      current_page += 1\n",
        "\n",
        "    except Exception as e:\n",
        "      print(f\"!!! 카테고리 페이지 이동 또는 처리 중 오류 발생: {e} (URL: {category_page_url})\")\n",
        "      break\n",
        "\n",
        "  print(f\"------------- 카테고리: '{category_name}' 수집 완료 ({len([r for r in all_reviews if r['책이름'] != 'N/A'])}권 데이터 수집) -------------\") # 대략적인 권수 확인"
      ],
      "metadata": {
        "colab": {
          "base_uri": "https://localhost:8080/",
          "height": 1000
        },
        "id": "hC22UCoNypG1",
        "outputId": "de844140-7ee4-405c-f51a-1c5c32fdd9e9"
      },
      "execution_count": 73,
      "outputs": [
        {
          "output_type": "stream",
          "name": "stdout",
          "text": [
            "start crawling\n",
            "------------- 카테고리: 'IT' 수집 시작-------------\n",
            "'IT' 카테고리의 1 페이지로 이동중: https://www.yes24.com/product/category/bestseller?pageNumber=1&pageSize=100&categoryNumber=001001003\n",
            "100개의 책 링크 찾음\n",
            "--- (1/100) 책 상세 페이지 이동: https://www.yes24.com/product/goods/146290174 ---\n",
            "    책 제목: 비전공자도 이해할 수 있는 챗GPT, 저자: 박상길, ID: 146290174, 전체 별점: 9.8\n",
            "--- (2/100) 책 상세 페이지 이동: https://www.yes24.com/product/goods/145426898 ---\n",
            "    책 제목: 요즘 교사를 위한 AI 수업 활용 가이드 with 2022 개정 교육과정, 저자: 박진환, ID: 145426898, 전체 별점: 9.8\n",
            "[중간 저장]\n",
            "[CSV 저장 완료] 총 128개 저장\n",
            "[진행 상태 저장] 완료한 책 링크 2개 저장 완료\n",
            "--- (3/100) 책 상세 페이지 이동: https://www.yes24.com/product/goods/106711883 ---\n",
            "    책 제목: 진짜 쓰는 실무 엑셀, 저자: 전진권, ID: 106711883, 전체 별점: 9.8\n",
            "--- (4/100) 책 상세 페이지 이동: https://www.yes24.com/product/goods/140835200 ---\n",
            "    책 제목: 이게 되네? 챗GPT 미친 활용법 71제, 저자: 오힘찬, ID: 140835200, 전체 별점: 9.6\n",
            "[중간 저장]\n",
            "[CSV 저장 완료] 총 208개 저장\n",
            "[진행 상태 저장] 완료한 책 링크 4개 저장 완료\n",
            "--- (5/100) 책 상세 페이지 이동: https://www.yes24.com/product/goods/143907967 ---\n",
            "    책 제목: 된다! 조회수 터지는 유튜브 쇼츠 만들기, 저자: 최지영, ID: 143907967, 전체 별점: 10.0\n",
            "--- (6/100) 책 상세 페이지 이동: https://www.yes24.com/product/goods/146874665 ---\n",
            "    !!! 책 상세 페이지 또는 리뷰 크롤링 중 오류 발생: Message: \n",
            "Stacktrace:\n",
            "#0 0x5982c98f0c4a <unknown>\n",
            "#1 0x5982c93966e0 <unknown>\n",
            "#2 0x5982c93e8117 <unknown>\n",
            "#3 0x5982c93e8311 <unknown>\n",
            "#4 0x5982c9436ec4 <unknown>\n",
            "#5 0x5982c940de5d <unknown>\n",
            "#6 0x5982c94342cc <unknown>\n",
            "#7 0x5982c940dc03 <unknown>\n",
            "#8 0x5982c93da47b <unknown>\n",
            "#9 0x5982c93db0e1 <unknown>\n",
            "#10 0x5982c98b53fb <unknown>\n",
            "#11 0x5982c98b932f <unknown>\n",
            "#12 0x5982c989cf39 <unknown>\n",
            "#13 0x5982c98b9ec8 <unknown>\n",
            "#14 0x5982c988168f <unknown>\n",
            "#15 0x5982c98de2b8 <unknown>\n",
            "#16 0x5982c98de496 <unknown>\n",
            "#17 0x5982c98efb26 <unknown>\n",
            "#18 0x0db60f4a8ac3 <unknown>\n",
            " (URL: https://www.yes24.com/product/goods/146874665)\n",
            "[중간 저장]\n",
            "[CSV 저장 완료] 총 25개 저장\n",
            "[진행 상태 저장] 완료한 책 링크 6개 저장 완료\n",
            "--- (7/100) 책 상세 페이지 이동: https://www.yes24.com/product/goods/146828776 ---\n",
            "    책 제목: AI로 7일 만에 사업 시작하기, 저자: 김다솔, ID: 146828776, 전체 별점: 10.0\n",
            "--- (8/100) 책 상세 페이지 이동: https://www.yes24.com/product/goods/139705941 ---\n"
          ]
        },
        {
          "output_type": "error",
          "ename": "KeyboardInterrupt",
          "evalue": "",
          "traceback": [
            "\u001b[0;31m---------------------------------------------------------------------------\u001b[0m",
            "\u001b[0;31mKeyboardInterrupt\u001b[0m                         Traceback (most recent call last)",
            "\u001b[0;32m<ipython-input-73-3e2a01e23970>\u001b[0m in \u001b[0;36m<cell line: 0>\u001b[0;34m()\u001b[0m\n\u001b[1;32m     54\u001b[0m           \u001b[0;31m# 리뷰 목록 영역이 나타날 때까지 대기\u001b[0m\u001b[0;34m\u001b[0m\u001b[0;34m\u001b[0m\u001b[0m\n\u001b[1;32m     55\u001b[0m           \u001b[0mWebDriverWait\u001b[0m\u001b[0;34m(\u001b[0m\u001b[0mdriver\u001b[0m\u001b[0;34m,\u001b[0m \u001b[0;36m10\u001b[0m\u001b[0;34m)\u001b[0m\u001b[0;34m.\u001b[0m\u001b[0muntil\u001b[0m\u001b[0;34m(\u001b[0m\u001b[0mEC\u001b[0m\u001b[0;34m.\u001b[0m\u001b[0mpresence_of_element_located\u001b[0m\u001b[0;34m(\u001b[0m\u001b[0;34m(\u001b[0m\u001b[0mBy\u001b[0m\u001b[0;34m.\u001b[0m\u001b[0mCSS_SELECTOR\u001b[0m\u001b[0;34m,\u001b[0m \u001b[0;34m'#infoset_reviewContentList'\u001b[0m\u001b[0;34m)\u001b[0m\u001b[0;34m)\u001b[0m\u001b[0;34m)\u001b[0m \u001b[0;31m# 리뷰 영역 ID (예시, 확인 필요!)\u001b[0m\u001b[0;34m\u001b[0m\u001b[0;34m\u001b[0m\u001b[0m\n\u001b[0;32m---> 56\u001b[0;31m           \u001b[0mtime\u001b[0m\u001b[0;34m.\u001b[0m\u001b[0msleep\u001b[0m\u001b[0;34m(\u001b[0m\u001b[0;36m2\u001b[0m\u001b[0;34m)\u001b[0m\u001b[0;34m\u001b[0m\u001b[0;34m\u001b[0m\u001b[0m\n\u001b[0m\u001b[1;32m     57\u001b[0m \u001b[0;34m\u001b[0m\u001b[0m\n\u001b[1;32m     58\u001b[0m           \u001b[0;31m# 책 상세 페이지\u001b[0m\u001b[0;34m\u001b[0m\u001b[0;34m\u001b[0m\u001b[0m\n",
            "\u001b[0;31mKeyboardInterrupt\u001b[0m: "
          ]
        }
      ]
    },
    {
      "cell_type": "code",
      "source": [
        "df = pd.DataFrame(all_reviews)\n",
        "df.to_csv('SAVE_CSV_PATH', index=False, encoding='utf-8-sig')\n",
        "print(f\"[최종저장완료] 총 {len(df)}개 저장: {SAVE_CSV_PATH}\")\n",
        "\n",
        "'''with open(PROGRESS_PATH, 'w', encoding='utf-8-sig') as f:\n",
        "  json.dump(list(completed_book_links), f, ensure_ascii=False, indent=2)\n",
        "print(f\"[최종저장완료 책 링크]: {PROGRESS_PATH}\")'''"
      ],
      "metadata": {
        "id": "V6JVGyoupE08"
      },
      "execution_count": null,
      "outputs": []
    },
    {
      "cell_type": "code",
      "source": [
        "'''# 수집된 데이터를 Pandas DataFrame으로 만들기\n",
        "df = pd.DataFrame(all_reviews)\n",
        "\n",
        "# CSV 파일로 저장 (인코딩 중요!)\n",
        "csv_filename = 'yes24_book_reviews.csv'\n",
        "df.to_csv(csv_filename, index=False, encoding='utf-8-sig') # 한글 깨짐 방지\n",
        "\n",
        "print(f\"\\n--- 크롤링 완료! 총 {len(df)}개의 리뷰 데이터가 '{csv_filename}' 파일로 저장되었습니다. ---\")'''"
      ],
      "metadata": {
        "id": "yWGZ3Wd8yvMZ"
      },
      "execution_count": null,
      "outputs": []
    },
    {
      "cell_type": "code",
      "source": [
        "# WebDriver 종료\n",
        "if 'driver' in locals() and driver:\n",
        "    driver.quit()\n",
        "    print(\"WebDriver 종료 완료.\")\n"
      ],
      "metadata": {
        "id": "DREKC-al8UEr"
      },
      "execution_count": null,
      "outputs": []
    }
  ]
}